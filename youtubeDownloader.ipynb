{
 "cells": [
  {
   "cell_type": "code",
   "execution_count": 1,
   "metadata": {},
   "outputs": [],
   "source": [
    "import pytube\n",
    "import os\n",
    "from moviepy.editor import *"
   ]
  },
  {
   "cell_type": "code",
   "execution_count": 2,
   "metadata": {},
   "outputs": [],
   "source": [
    "def videoFromLink(link):\n",
    "    \n",
    "    path = os.getcwd()\n",
    "    yt = pytube.YouTube(link)\n",
    "    video_list = yt.get_videos()\n",
    "    i = 0\n",
    "    for vid in (video_list):\n",
    "        print(str(i),\" : \",str(vid))\n",
    "        i+=1\n",
    "    vid_id = int(input(\"choose a quality : \\n\"))\n",
    "    vid = video_list[vid_id]\n",
    "    vid.download(path)\n",
    "\n",
    "def youtubeToMp3(video):\n",
    "    \n",
    "    clip = VideoFileClip(video)\n",
    "    audio = video.split(sep=\"/\")[-1].split(sep=\".\")[0]+\".mp3\"\n",
    "    clip.audio.write_audiofile(audio)"
   ]
  },
  {
   "cell_type": "code",
   "execution_count": 9,
   "metadata": {},
   "outputs": [],
   "source": [
    "def main():\n",
    "    \n",
    "    cond ='y'\n",
    "    while cond == 'y':\n",
    "        video_to_download = input(\"Give youtube link : \")\n",
    "        videoFromLink(video_to_download)\n",
    "        test = input(\"do you want to convert it to mp3? [y/n]\")\n",
    "        if test == 'y':\n",
    "            video_name = input(\"give the video name as saved :\")\n",
    "            youtubeToMp3(video_name)\n",
    "        elif test == 'n':\n",
    "            continue\n",
    "        else:\n",
    "            print(\"Wrong Choice , please answer y/n\")\n",
    "        cond = input(\"Do you want to do this again? [y/n]\")\n",
    "    \n",
    "    "
   ]
  },
  {
   "cell_type": "code",
   "execution_count": 10,
   "metadata": {},
   "outputs": [
    {
     "name": "stdout",
     "output_type": "stream",
     "text": [
      "Give youtube link : https://www.youtube.com/watch?v=AiIBKcd4m5Q\n",
      "0  :  <Video: MPEG-4 Visual (.3gp) - 144p - Simple>\n",
      "1  :  <Video: MPEG-4 Visual (.3gp) - 240p - Simple>\n",
      "2  :  <Video: H.264 (.mp4) - 360p - Baseline>\n",
      "3  :  <Video: VP8 (.webm) - 360p - N/A>\n",
      "choose a quality : \n",
      "0\n",
      "do you want to convert it to mp3? [y/n]y\n",
      "give the video name as saved :Frank Sinatra   I Love You Baby.3gp\n",
      "[MoviePy] Writing audio in Frank Sinatra   I Love You Baby.mp3\n"
     ]
    },
    {
     "name": "stderr",
     "output_type": "stream",
     "text": [
      "100%|██████████| 5207/5207 [00:08<00:00, 587.93it/s]"
     ]
    },
    {
     "name": "stdout",
     "output_type": "stream",
     "text": [
      "[MoviePy] Done.\n"
     ]
    },
    {
     "name": "stderr",
     "output_type": "stream",
     "text": [
      "\n"
     ]
    },
    {
     "name": "stdout",
     "output_type": "stream",
     "text": [
      "Do you want to do this again? [y/n]n\n"
     ]
    }
   ],
   "source": [
    "if __name__=='__main__' :\n",
    "    main()"
   ]
  },
  {
   "cell_type": "code",
   "execution_count": null,
   "metadata": {},
   "outputs": [],
   "source": []
  }
 ],
 "metadata": {
  "kernelspec": {
   "display_name": "Python 3",
   "language": "python",
   "name": "python3"
  },
  "language_info": {
   "codemirror_mode": {
    "name": "ipython",
    "version": 3
   },
   "file_extension": ".py",
   "mimetype": "text/x-python",
   "name": "python",
   "nbconvert_exporter": "python",
   "pygments_lexer": "ipython3",
   "version": "3.6.4"
  }
 },
 "nbformat": 4,
 "nbformat_minor": 2
}
